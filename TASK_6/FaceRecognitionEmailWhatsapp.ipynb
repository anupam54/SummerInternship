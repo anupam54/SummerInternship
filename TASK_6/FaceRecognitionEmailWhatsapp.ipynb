{
 "cells": [
  {
   "cell_type": "markdown",
   "id": "polish-creature",
   "metadata": {},
   "source": [
    "# FACE RECOGNITION TO SEND EMAIL AND WHATSAPP MESSAGE"
   ]
  },
  {
   "cell_type": "markdown",
   "id": "focal-uniform",
   "metadata": {},
   "source": [
    "# This module works of face extraction for training"
   ]
  },
  {
   "cell_type": "code",
   "execution_count": 1,
   "id": "hawaiian-industry",
   "metadata": {},
   "outputs": [
    {
     "name": "stderr",
     "output_type": "stream",
     "text": [
      "<>:13: SyntaxWarning: \"is\" with a literal. Did you mean \"==\"?\n",
      "<>:13: SyntaxWarning: \"is\" with a literal. Did you mean \"==\"?\n",
      "<ipython-input-1-dd5096ebb12a>:13: SyntaxWarning: \"is\" with a literal. Did you mean \"==\"?\n",
      "  if faces is ():\n"
     ]
    },
    {
     "name": "stdout",
     "output_type": "stream",
     "text": [
      "YOUR FACE IS NOT VISIBLE PROPERLY\n",
      "YOUR FACE IS NOT VISIBLE PROPERLY\n",
      "YOUR FACE IS NOT VISIBLE PROPERLY\n",
      "YOUR FACE IS NOT VISIBLE PROPERLY\n",
      "YOUR FACE IS NOT VISIBLE PROPERLY\n",
      "YOUR FACE IS NOT VISIBLE PROPERLY\n",
      "YOUR FACE IS NOT VISIBLE PROPERLY\n",
      "YOUR FACE IS NOT VISIBLE PROPERLY\n",
      "YOUR FACE IS NOT VISIBLE PROPERLY\n",
      "YOUR FACE IS NOT VISIBLE PROPERLY\n",
      "YOUR FACE IS NOT VISIBLE PROPERLY\n",
      "YOUR FACE IS NOT VISIBLE PROPERLY\n",
      "YOUR FACE IS NOT VISIBLE PROPERLY\n",
      "YOUR FACE IS NOT VISIBLE PROPERLY\n",
      "YOUR FACE IS NOT VISIBLE PROPERLY\n",
      "YOUR FACE IS NOT VISIBLE PROPERLY\n",
      "YOUR FACE IS NOT VISIBLE PROPERLY\n",
      "YOUR FACE IS NOT VISIBLE PROPERLY\n",
      "YOUR FACE IS NOT VISIBLE PROPERLY\n",
      "YOUR FACE IS NOT VISIBLE PROPERLY\n",
      "YOUR FACE IS NOT VISIBLE PROPERLY\n",
      "YOUR FACE IS NOT VISIBLE PROPERLY\n",
      "Collecting Samples Complete!!!!\n"
     ]
    }
   ],
   "source": [
    "import cv2\n",
    "import numpy as np\n",
    "\n",
    "# HERE THE HAAR FACE CLASSIFIER IS LOADING\n",
    "face_classifier = cv2.CascadeClassifier('haarcascade_frontalface_default.xml')\n",
    "\n",
    "# fUNCTION TO DETECT THE FACE AND CROP THAT\n",
    "def face_extractor(img):\n",
    "    \n",
    "    img_in_gray = cv2.cvtColor(img,cv2.COLOR_BGR2GRAY)\n",
    "    faces = face_classifier.detectMultiScale(img_in_gray, 1.3, 5)\n",
    "    \n",
    "    if faces is ():\n",
    "        return None\n",
    "    \n",
    "    # CROPPING THE FACE PART\n",
    "    for (x,y,w,h) in faces:\n",
    "        cropped_face = img[y:y+h, x:x+w]\n",
    "\n",
    "    return cropped_face\n",
    "\n",
    "# WEBCAM INITIALIZATION\n",
    "cap = cv2.VideoCapture(0)\n",
    "count = 0\n",
    "\n",
    "# Collect 100 samples of your face from webcam input\n",
    "while True:\n",
    "\n",
    "    ret, frame = cap.read()\n",
    "    if face_extractor(frame) is not None:\n",
    "        count += 1\n",
    "        face = cv2.resize(face_extractor(frame), (200, 200))\n",
    "        face = cv2.cvtColor(face, cv2.COLOR_BGR2GRAY)\n",
    "\n",
    "        # SAVING EACH IMAGE IS A SPECIFIC FOLDER \"M1\"\n",
    "        file_name_path = './TASK6/M1/' + str(count) + '.jpg'\n",
    "        cv2.imwrite(file_name_path, face)\n",
    "\n",
    "        # Put count on images and display live count\n",
    "        cv2.putText(face, str(count), (50, 50), cv2.FONT_HERSHEY_COMPLEX, 1, (0,255,0), 2)\n",
    "        cv2.imshow('FACES IS CROPPING', face)\n",
    "        \n",
    "    else:\n",
    "        print(\"YOUR FACE IS NOT VISIBLE PROPERLY\")\n",
    "        pass\n",
    "\n",
    "    if cv2.waitKey(1) == 13 or count == 200:\n",
    "        break\n",
    "        \n",
    "cap.release()\n",
    "cv2.destroyAllWindows()      \n",
    "print(\"Collecting Samples Complete!!!!\")"
   ]
  },
  {
   "cell_type": "markdown",
   "id": "considerable-preview",
   "metadata": {},
   "source": [
    "# Training the model with all captured and cropped images"
   ]
  },
  {
   "cell_type": "code",
   "execution_count": 2,
   "id": "amended-audit",
   "metadata": {},
   "outputs": [
    {
     "name": "stdout",
     "output_type": "stream",
     "text": [
      "Model trained sucessefully!!!\n"
     ]
    }
   ],
   "source": [
    "import cv2\n",
    "import numpy as np\n",
    "from os import listdir\n",
    "from os.path import isfile, join\n",
    "\n",
    "# TAKING THE DATA FOR TRAINING PURPOSE FROM \"M1\" FOLDER\n",
    "path = './TASK6/M1/'\n",
    "onlyfiles = [f for f in listdir(path) if isfile(join(path, f))]\n",
    "\n",
    "# LIST OF DATA AND LABELS\n",
    "Training_Data = []\n",
    "Labels = []\n",
    "\n",
    "# OPEN TRAINING IMAGES IN OUR PATH AND CREATING A NUMPY ARRAY FOR TRAINING DATA\n",
    "for i, files in enumerate(onlyfiles):\n",
    "    image_path = path + onlyfiles[i]\n",
    "    images = cv2.imread(image_path, cv2.IMREAD_GRAYSCALE)\n",
    "    Training_Data.append(np.asarray(images, dtype=np.uint8))\n",
    "    Labels.append(i)\n",
    "\n",
    "# CREATE A NUMPY ARRAY FOR BOTH TRAINING DATA AND LABELS\n",
    "Labels = np.asarray(Labels, dtype=np.int32)\n",
    "\n",
    "# Initialize facial recognizer\n",
    "# model = cv2.face.createLBPHFaceRecognizer()\n",
    "# NOTE: For OpenCV 3.0 use cv2.face.createLBPHFaceRecognizer()\n",
    "# pip install opencv-contrib-python\n",
    "# model = cv2.createLBPHFaceRecognizer()\n",
    "\n",
    "anupam_model  = cv2.face_LBPHFaceRecognizer.create()\n",
    "# Let's train our model \n",
    "anupam_model.train(np.asarray(Training_Data), np.asarray(Labels))\n",
    "print(\"Model trained sucessefully!!!\")\n"
   ]
  },
  {
   "cell_type": "markdown",
   "id": "above-journalism",
   "metadata": {},
   "source": [
    "# Face detection and sending email and whatsapp message "
   ]
  },
  {
   "cell_type": "code",
   "execution_count": 3,
   "id": "endless-professional",
   "metadata": {},
   "outputs": [
    {
     "name": "stderr",
     "output_type": "stream",
     "text": [
      "<>:15: SyntaxWarning: \"is\" with a literal. Did you mean \"==\"?\n",
      "<>:15: SyntaxWarning: \"is\" with a literal. Did you mean \"==\"?\n",
      "<ipython-input-3-b9c6231dfe6b>:15: SyntaxWarning: \"is\" with a literal. Did you mean \"==\"?\n",
      "  if faces is ():\n"
     ]
    },
    {
     "name": "stdout",
     "output_type": "stream",
     "text": [
      "WHATSAPP MESSAGE SENT!!!\n",
      "Email sent Successfully!\n"
     ]
    }
   ],
   "source": [
    "import cv2\n",
    "import numpy as np\n",
    "import os\n",
    "import pywhatkit as kitkat\n",
    "import time\n",
    "\n",
    "\n",
    "face_classifier = cv2.CascadeClassifier('haarcascade_frontalface_default.xml')\n",
    "\n",
    "def face_detector(img, size=0.5):\n",
    "    \n",
    "    # Convert image to grayscale\n",
    "    gray = cv2.cvtColor(img,cv2.COLOR_BGR2GRAY)\n",
    "    faces = face_classifier.detectMultiScale(gray, 1.3, 5)\n",
    "    if faces is ():\n",
    "        return img, []\n",
    "    \n",
    "    \n",
    "    for (x,y,w,h) in faces:\n",
    "        cv2.rectangle(img,(x,y),(x+w,y+h),(0,255,255),2)\n",
    "        roi = img[y:y+h, x:x+w]\n",
    "        roi = cv2.resize(roi, (200, 200))\n",
    "    return img, roi\n",
    "\n",
    "\n",
    "# WEBCAM INITIALIZATION\n",
    "cap = cv2.VideoCapture(0)\n",
    "\n",
    "while True:\n",
    "\n",
    "    ret, frame = cap.read()\n",
    "    \n",
    "    image, face = face_detector(frame)\n",
    "    \n",
    "    \n",
    "    try:\n",
    "        face = cv2.cvtColor(face, cv2.COLOR_BGR2GRAY)\n",
    "\n",
    "        # PASSING FACE FOR THE PREDICTION\n",
    "        # \"RESULTS\" IS A TUPLE COMPRISES OF LABELS AND CONFIDENCE SCORE\n",
    "        results = anupam_model.predict(face)\n",
    "        \n",
    "        \n",
    "        if results[1] < 500:\n",
    "            confidence = int( 100 * (1 - (results[1])/400) )\n",
    "            display_string = str(confidence) + '% FACE MATCHING!!!'\n",
    "            cv2.putText(image, display_string, (50, 100), cv2.FONT_HERSHEY_COMPLEX, 1, (0, 255,0), 2)\n",
    "        \n",
    "        #IF CONFIDENCE SCORE WILL BE MORE THAN 90% EMAIL AND WHATSAPP MESSAGE BOTH WILL BE SEND.\n",
    "        if confidence > 90:\n",
    "            cv2.putText(image, \"FACE MATCHED!!!\", (100, 450), cv2.FONT_HERSHEY_COMPLEX, 1, (0,255,0), 2)\n",
    "            cv2.imshow('FACE RECOGNITION', image)\n",
    "            kitkat.sendwhatmsg_instantly('+91_receiver_number','message_you_want_to_send')\n",
    "            print(\"WHATSAPP MESSAGE SENT!!!\")\n",
    "            kitkat.send_mail('sender_mail_id', 'sender_mail_password', 'subject_of_mail', 'message_you_want_to_send', 'receiver_mail_id')\n",
    "            break\n",
    "            \n",
    "        else:\n",
    "            cv2.putText(image, \"FACE IS NOT MATCHING by 90%!!!\", (100, 450), cv2.FONT_HERSHEY_COMPLEX, 1, (255,0,0), 2)\n",
    "            cv2.imshow('FACE RECOGNITION', image )\n",
    "\n",
    "    except:\n",
    "        cv2.putText(image, \"FACE DOESN'T FOUND!!!\", (50, 100) , cv2.FONT_HERSHEY_COMPLEX, 1, (255,0,0), 2)\n",
    "        cv2.putText(image, \"PlEASE LOOK AT CAMERA!!!\", (50, 450), cv2.FONT_HERSHEY_COMPLEX, 1, (255,0,0), 2)\n",
    "        cv2.imshow('FACE RECOGNITION', image)\n",
    "        pass\n",
    "        \n",
    "    if cv2.waitKey(1) == 13:\n",
    "        break\n",
    "        \n",
    "cap.release()\n",
    "cv2.destroyAllWindows()     "
   ]
  },
  {
   "cell_type": "code",
   "execution_count": null,
   "id": "graphic-paraguay",
   "metadata": {},
   "outputs": [],
   "source": [
    "cap.release()"
   ]
  },
  {
   "cell_type": "code",
   "execution_count": null,
   "id": "lasting-pizza",
   "metadata": {},
   "outputs": [],
   "source": []
  }
 ],
 "metadata": {
  "kernelspec": {
   "display_name": "Python 3",
   "language": "python",
   "name": "python3"
  },
  "language_info": {
   "codemirror_mode": {
    "name": "ipython",
    "version": 3
   },
   "file_extension": ".py",
   "mimetype": "text/x-python",
   "name": "python",
   "nbconvert_exporter": "python",
   "pygments_lexer": "ipython3",
   "version": "3.8.5"
  }
 },
 "nbformat": 4,
 "nbformat_minor": 5
}
